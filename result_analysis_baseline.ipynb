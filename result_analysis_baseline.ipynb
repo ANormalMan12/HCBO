{
 "cells": [
  {
   "cell_type": "code",
   "execution_count": null,
   "metadata": {},
   "outputs": [],
   "source": [
    "from tools import *\n",
    "from src.experiment.file_analysis import *\n",
    "import traceback"
   ]
  },
  {
   "cell_type": "markdown",
   "metadata": {},
   "source": [
    "## Load data"
   ]
  },
  {
   "cell_type": "code",
   "execution_count": null,
   "metadata": {},
   "outputs": [],
   "source": [
    "\n",
    "exp_name_list=[]\n",
    "for file in RESULT_DIR_PATH.iterdir():\n",
    "    if file.is_dir():\n",
    "        exp_name_list.append(file.name)\n",
    "        print(file.name)\n",
    "all_data_dict={}\n",
    "all_hcbo_info_dict={}\n",
    "def analyze_exp_name(exp_name):\n",
    "    ret_name=\"\"\n",
    "    if(exp_name==\"CoralGraph\"):\n",
    "        ret_name=\"Coral Ecology\"\n",
    "        D=11\n",
    "        I=5\n",
    "    elif(exp_name==\"ProteinGraph\"):\n",
    "        ret_name=\"Protein\"\n",
    "        D=5\n",
    "        I=3\n",
    "    elif(exp_name==\"HealthGraph\"):\n",
    "        ret_name=\"Health\"\n",
    "        D=10\n",
    "        I=3\n",
    "    else:\n",
    "        last_dash_index =exp_name.rfind(\"-\")  \n",
    "        if last_dash_index != -1:  \n",
    "            second_last_dash_index = exp_name.rfind(\"-\", 0, last_dash_index) \n",
    "            if second_last_dash_index != -1:\n",
    "                real_name = exp_name[:second_last_dash_index]\n",
    "                D_str = exp_name[second_last_dash_index+1:last_dash_index]\n",
    "        ret_name=real_name\n",
    "        D=int(D_str)\n",
    "        I=D//3\n",
    "    return ret_name,D,I\n",
    "\n",
    "for exp_name in exp_name_list:\n",
    "    if(exp_name in [\"HealthGraph\"]):\n",
    "        maximize=False\n",
    "    else:\n",
    "        maximize=True\n",
    "    if exp_name in [\"EffDim\"]:\n",
    "        continue\n",
    "    try:\n",
    "        result_reader=ResultManager(exp_name)\n",
    "        convergence_data_dict={}\n",
    "        data_dict=result_reader.read_hdo_baseline_results()\n",
    "        convergence_data_dict=analyze_hdo_results(data_dict,maximize)\n",
    "        hcbo_result_dict={}\n",
    "        for name in [\"HCBO\",\"CBO\",\"Random-Search\"]:\n",
    "            try:            \n",
    "                hcbo_result_dict[name]=result_reader.read_causal_baseline_result(name)\n",
    "            except Exception as e:\n",
    "                print(e)\n",
    "        hcbo_covergence_data_dict,hcbo_report_info_dict,issf_info_list_dict=analyze_hcbo_results(\n",
    "            hcbo_result_dict\n",
    "            ,maximize=maximize) \n",
    "        convergence_data_dict={**convergence_data_dict,**hcbo_covergence_data_dict}\n",
    "        exp_identifier=exp_name\n",
    "        all_data_dict[exp_identifier]=convergence_data_dict\n",
    "        all_hcbo_info_dict[exp_identifier]=hcbo_report_info_dict\n",
    "    except Exception as e:\n",
    "        print(\"Fail in \",exp_name)\n",
    "        print(e)\n",
    "        traceback.print_exc()"
   ]
  },
  {
   "cell_type": "markdown",
   "metadata": {},
   "source": [
    "## Draw the figure without normalization"
   ]
  },
  {
   "cell_type": "code",
   "execution_count": null,
   "metadata": {},
   "outputs": [],
   "source": [
    "fig=draw_convergence_line_graph(\n",
    "    all_data_dict,\n",
    "    \"Cumulative Cost\",\n",
    "    \"$Y^*$\",subplot_distance_dict={\n",
    "        \"wspace\":0.15\n",
    "    }\n",
    ")\n",
    "fig.show()"
   ]
  },
  {
   "cell_type": "markdown",
   "metadata": {},
   "source": [
    "## Statistical tests on baseline experiment results"
   ]
  },
  {
   "cell_type": "code",
   "execution_count": null,
   "metadata": {},
   "outputs": [],
   "source": [
    "import scipy.stats as stats\n",
    "for key,value_dict in all_data_dict.items():\n",
    "    print(f\"---{key}---\")\n",
    "    baseline_sample={}\n",
    "    HCBO_result=None\n",
    "    for baseline_name,value in value_dict.items():\n",
    "        if(baseline_name==\"HCBO\"):\n",
    "            if(HCBO_result is not None):\n",
    "                raise ValueError(\"Illegal Input\")\n",
    "            HCBO_result=value[:,-1]\n",
    "        else:\n",
    "            baseline_sample[baseline_name]=value[:,-1]\n",
    "    for baseline_name,comp_result in baseline_sample.items():\n",
    "        if(key==\"HealthGraph\"):\n",
    "            alternative=\"less\"\n",
    "        else:\n",
    "            alternative=\"greater\"\n",
    "        t_stat, p_value = stats.ttest_rel(HCBO_result, comp_result,alternative=alternative)\n",
    "        print(f\"{baseline_name:<15} t Value: {t_stat:<10}, p Value: {p_value:<10}\")\n"
   ]
  }
 ],
 "metadata": {
  "kernelspec": {
   "display_name": "HCBOenv",
   "language": "python",
   "name": "python3"
  },
  "language_info": {
   "codemirror_mode": {
    "name": "ipython",
    "version": 3
   },
   "file_extension": ".py",
   "mimetype": "text/x-python",
   "name": "python",
   "nbconvert_exporter": "python",
   "pygments_lexer": "ipython3",
   "version": "3.8.18"
  }
 },
 "nbformat": 4,
 "nbformat_minor": 2
}
