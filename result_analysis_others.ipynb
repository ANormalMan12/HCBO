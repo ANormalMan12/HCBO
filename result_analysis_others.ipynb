{
 "cells": [
  {
   "cell_type": "code",
   "execution_count": null,
   "metadata": {},
   "outputs": [],
   "source": [
    "from tools import *\n",
    "from src.experiment.file_analysis import *"
   ]
  },
  {
   "cell_type": "markdown",
   "metadata": {},
   "source": [
    "## Data Class Definition"
   ]
  },
  {
   "cell_type": "code",
   "execution_count": null,
   "metadata": {},
   "outputs": [],
   "source": [
    "\n",
    "class CausalOptimizationAnalysis():\n",
    "    def __init__(self,exp_name,maximize):\n",
    "        self.result_reader=ResultManager(exp_name)\n",
    "        self.maximize=maximize\n",
    "    def get_hyper_alpha_data(self):\n",
    "        data_alpha_fixed_dict,fixed_alpha_list=self.result_reader.read_HyperAlpha_Fixed_results()\n",
    "        data_alpha_update_dict=self.result_reader.read_HyperAlpha_Updating_results()\n",
    "        data_all_dict={**data_alpha_fixed_dict,**data_alpha_update_dict}\n",
    "        return analyze_hcbo_results(data_all_dict,self.maximize)\n",
    "    def get_ablation_acq_data(self):\n",
    "        acquisition_result_dict=self.result_reader.read_ablation_results(\"Acquisition\")\n",
    "        return analyze_hcbo_results(acquisition_result_dict,self.maximize)\n",
    "    def get_ablation_es_data(self):\n",
    "        es_result_dict=self.result_reader.read_ablation_results(\"ES\")\n",
    "        return analyze_hcbo_results(es_result_dict,self.maximize)\n",
    "    def get_acq_figure(self):\n",
    "        covergence_data_dict,report_info,issf_info_list_dict=self.get_ablation_acq_data()\n",
    "        print(report_info)\n",
    "        hcbo_best_value=report_info[\"HCBO\"][\"best_Y\"]\n",
    "        fig=draw_convergence_line_graph({\"Acquisition Ablation\":covergence_data_dict},\n",
    "                                        \"Cumulative Costs\",\n",
    "                                        ylabel=\"Y star\")\n",
    "        return hcbo_best_value\n",
    "    def get_hyper_figure(self):\n",
    "        covergence_data_dict,report_info,issf_info_list_dict=self.get_hyper_alpha_data()\n",
    "        for key,value in report_info.items():\n",
    "            print(key)\n",
    "            print(value)\n",
    "        optimal_dict={}\n",
    "        for key,item in report_info.items():\n",
    "            optimal_dict[key]=(item['best_mean'],item['best_std'])\n",
    "        optimal_list=optimal_dict.items()\n",
    "        print(optimal_list)\n",
    "        print(sorted(optimal_list,key=lambda s: s[1][0]))\n",
    "        draw_convergence_line_graph({\"Acquisition Ablation\":covergence_data_dict},\"Cumulative Costs\",ylabel=\"Y star\")"
   ]
  },
  {
   "cell_type": "markdown",
   "metadata": {},
   "source": [
    "## Draw ISSF Ablation Results"
   ]
  },
  {
   "cell_type": "code",
   "execution_count": null,
   "metadata": {},
   "outputs": [],
   "source": [
    "analyzer=CausalOptimizationAnalysis(f\"additive-100-8\",True)\n",
    "analyzer.get_acq_figure()"
   ]
  },
  {
   "cell_type": "markdown",
   "metadata": {},
   "source": [
    "## Draw Hyperparameter result"
   ]
  },
  {
   "cell_type": "code",
   "execution_count": null,
   "metadata": {},
   "outputs": [],
   "source": [
    "analyzer=CausalOptimizationAnalysis(f\"linear-100-124\",True)\n",
    "analyzer.get_hyper_figure()"
   ]
  }
 ],
 "metadata": {
  "kernelspec": {
   "display_name": "CBOenv",
   "language": "python",
   "name": "python3"
  },
  "language_info": {
   "codemirror_mode": {
    "name": "ipython",
    "version": 3
   },
   "file_extension": ".py",
   "mimetype": "text/x-python",
   "name": "python",
   "nbconvert_exporter": "python",
   "pygments_lexer": "ipython3",
   "version": "3.8.18"
  }
 },
 "nbformat": 4,
 "nbformat_minor": 2
}
